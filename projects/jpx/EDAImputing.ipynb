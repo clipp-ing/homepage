{
 "cells": [
  {
   "cell_type": "code",
   "execution_count": 1,
   "id": "32d19f23-c303-45d1-9370-d8f6f6798055",
   "metadata": {},
   "outputs": [],
   "source": [
    "#data analysis\n",
    "import pandas as pd\n",
    "import numpy as np\n",
    "\n",
    "#visualization\n",
    "from matplotlib import pyplot as plt\n",
    "from matplotlib import rcParams\n",
    "import seaborn as sns\n",
    "\n",
    "#python packages\n",
    "from datetime import date\n",
    "import os\n",
    "import warnings"
   ]
  },
  {
   "cell_type": "code",
   "execution_count": 2,
   "id": "be31a149-0a67-4179-8d75-bb9b7d7f2fc2",
   "metadata": {},
   "outputs": [],
   "source": [
    "#visualization parameters\n",
    "sns.set_style(\"dark\")\n",
    "rcParams['figure.figsize'] = 15,7\n",
    "warnings.filterwarnings(\"ignore\")"
   ]
  },
  {
   "cell_type": "markdown",
   "id": "ad590f28-083d-4ece-a7a1-bb3155d480fc",
   "metadata": {},
   "source": [
    "# The JPX stock dataset\n",
    "First let's perform some basic exploratory data analysis "
   ]
  },
  {
   "cell_type": "markdown",
   "id": "7a2d67d1-68b8-4f9b-85c8-5542d00a2ec3",
   "metadata": {},
   "source": [
    "### Import data"
   ]
  },
  {
   "cell_type": "code",
   "execution_count": 3,
   "id": "d46a9a48-280d-4ec6-b823-aaa2b8c22783",
   "metadata": {},
   "outputs": [],
   "source": [
    "data = pd.read_csv(\"../../train_files/stock_prices.csv\")\n",
    "specs = pd.read_csv(\"../../data_specifications/stock_price_spec.csv\")\n",
    "stock_list = pd.read_csv(\"../../stock_list.csv\")\n",
    "#give the column securities code a shorter name\n",
    "data.rename(columns = {'SecuritiesCode':'Code'}, inplace=True)"
   ]
  },
  {
   "cell_type": "markdown",
   "id": "1318b0cd-c023-4638-8edf-067f743900b3",
   "metadata": {},
   "source": [
    "#### What does our data look like? \n",
    "Our data is tabular with each row containing an\n",
    "1. ID\n",
    "2. Date\n",
    "3. Code (corresponding to a stock)\n",
    "4. Features for each date\n",
    "    - Opening Price\n",
    "    - Max Price\n",
    "    - Min Price\n",
    "    - Closing Price\n",
    "    - Volume sold\n",
    "5. A feature called 'AdjustmentFactor'\n",
    "    - Indicates whether a stock split/reverse-split occurs\n",
    "6. A feature called 'ExpectedDividend'\n",
    "    - If a stock pays dividend, what is the expected dividend\n",
    "7. A feature called 'SupervisionFlag'\n",
    "    - Whether or not a stock is under supervision or about to be delisted\n",
    "8. The target column \n",
    "    - % daily return for a stock bought one day in the future and sold a day later"
   ]
  },
  {
   "cell_type": "code",
   "execution_count": 4,
   "id": "05f39aa1-aa47-405c-8ab8-92d9a7dbd267",
   "metadata": {},
   "outputs": [
    {
     "data": {
      "text/html": [
       "<div>\n",
       "<style scoped>\n",
       "    .dataframe tbody tr th:only-of-type {\n",
       "        vertical-align: middle;\n",
       "    }\n",
       "\n",
       "    .dataframe tbody tr th {\n",
       "        vertical-align: top;\n",
       "    }\n",
       "\n",
       "    .dataframe thead th {\n",
       "        text-align: right;\n",
       "    }\n",
       "</style>\n",
       "<table border=\"1\" class=\"dataframe\">\n",
       "  <thead>\n",
       "    <tr style=\"text-align: right;\">\n",
       "      <th></th>\n",
       "      <th>RowId</th>\n",
       "      <th>Date</th>\n",
       "      <th>Code</th>\n",
       "      <th>Open</th>\n",
       "      <th>High</th>\n",
       "      <th>Low</th>\n",
       "      <th>Close</th>\n",
       "      <th>Volume</th>\n",
       "      <th>AdjustmentFactor</th>\n",
       "      <th>ExpectedDividend</th>\n",
       "      <th>SupervisionFlag</th>\n",
       "      <th>Target</th>\n",
       "    </tr>\n",
       "  </thead>\n",
       "  <tbody>\n",
       "    <tr>\n",
       "      <th>0</th>\n",
       "      <td>20170104_1301</td>\n",
       "      <td>2017-01-04</td>\n",
       "      <td>1301</td>\n",
       "      <td>2734.0</td>\n",
       "      <td>2755.0</td>\n",
       "      <td>2730.0</td>\n",
       "      <td>2742.0</td>\n",
       "      <td>31400</td>\n",
       "      <td>1.0</td>\n",
       "      <td>NaN</td>\n",
       "      <td>False</td>\n",
       "      <td>0.000730</td>\n",
       "    </tr>\n",
       "    <tr>\n",
       "      <th>1</th>\n",
       "      <td>20170104_1332</td>\n",
       "      <td>2017-01-04</td>\n",
       "      <td>1332</td>\n",
       "      <td>568.0</td>\n",
       "      <td>576.0</td>\n",
       "      <td>563.0</td>\n",
       "      <td>571.0</td>\n",
       "      <td>2798500</td>\n",
       "      <td>1.0</td>\n",
       "      <td>NaN</td>\n",
       "      <td>False</td>\n",
       "      <td>0.012324</td>\n",
       "    </tr>\n",
       "    <tr>\n",
       "      <th>2</th>\n",
       "      <td>20170104_1333</td>\n",
       "      <td>2017-01-04</td>\n",
       "      <td>1333</td>\n",
       "      <td>3150.0</td>\n",
       "      <td>3210.0</td>\n",
       "      <td>3140.0</td>\n",
       "      <td>3210.0</td>\n",
       "      <td>270800</td>\n",
       "      <td>1.0</td>\n",
       "      <td>NaN</td>\n",
       "      <td>False</td>\n",
       "      <td>0.006154</td>\n",
       "    </tr>\n",
       "    <tr>\n",
       "      <th>3</th>\n",
       "      <td>20170104_1376</td>\n",
       "      <td>2017-01-04</td>\n",
       "      <td>1376</td>\n",
       "      <td>1510.0</td>\n",
       "      <td>1550.0</td>\n",
       "      <td>1510.0</td>\n",
       "      <td>1550.0</td>\n",
       "      <td>11300</td>\n",
       "      <td>1.0</td>\n",
       "      <td>NaN</td>\n",
       "      <td>False</td>\n",
       "      <td>0.011053</td>\n",
       "    </tr>\n",
       "    <tr>\n",
       "      <th>4</th>\n",
       "      <td>20170104_1377</td>\n",
       "      <td>2017-01-04</td>\n",
       "      <td>1377</td>\n",
       "      <td>3270.0</td>\n",
       "      <td>3350.0</td>\n",
       "      <td>3270.0</td>\n",
       "      <td>3330.0</td>\n",
       "      <td>150800</td>\n",
       "      <td>1.0</td>\n",
       "      <td>NaN</td>\n",
       "      <td>False</td>\n",
       "      <td>0.003026</td>\n",
       "    </tr>\n",
       "  </tbody>\n",
       "</table>\n",
       "</div>"
      ],
      "text/plain": [
       "           RowId        Date  Code    Open    High     Low   Close   Volume  \\\n",
       "0  20170104_1301  2017-01-04  1301  2734.0  2755.0  2730.0  2742.0    31400   \n",
       "1  20170104_1332  2017-01-04  1332   568.0   576.0   563.0   571.0  2798500   \n",
       "2  20170104_1333  2017-01-04  1333  3150.0  3210.0  3140.0  3210.0   270800   \n",
       "3  20170104_1376  2017-01-04  1376  1510.0  1550.0  1510.0  1550.0    11300   \n",
       "4  20170104_1377  2017-01-04  1377  3270.0  3350.0  3270.0  3330.0   150800   \n",
       "\n",
       "   AdjustmentFactor  ExpectedDividend  SupervisionFlag    Target  \n",
       "0               1.0               NaN            False  0.000730  \n",
       "1               1.0               NaN            False  0.012324  \n",
       "2               1.0               NaN            False  0.006154  \n",
       "3               1.0               NaN            False  0.011053  \n",
       "4               1.0               NaN            False  0.003026  "
      ]
     },
     "execution_count": 4,
     "metadata": {},
     "output_type": "execute_result"
    }
   ],
   "source": [
    "data.head()"
   ]
  },
  {
   "cell_type": "markdown",
   "id": "77bb5cd5-1821-4c06-952b-9a8276ac5445",
   "metadata": {},
   "source": [
    "#### Price Is Right Skewed\n",
    "It's clear that the maximum prices (and volume as well) are much greater than values in other quantiles."
   ]
  },
  {
   "cell_type": "code",
   "execution_count": 5,
   "id": "76bd2843-7311-4680-a1c9-3c0da0a14a04",
   "metadata": {},
   "outputs": [
    {
     "data": {
      "text/html": [
       "<div>\n",
       "<style scoped>\n",
       "    .dataframe tbody tr th:only-of-type {\n",
       "        vertical-align: middle;\n",
       "    }\n",
       "\n",
       "    .dataframe tbody tr th {\n",
       "        vertical-align: top;\n",
       "    }\n",
       "\n",
       "    .dataframe thead th {\n",
       "        text-align: right;\n",
       "    }\n",
       "</style>\n",
       "<table border=\"1\" class=\"dataframe\">\n",
       "  <thead>\n",
       "    <tr style=\"text-align: right;\">\n",
       "      <th></th>\n",
       "      <th>Code</th>\n",
       "      <th>Open</th>\n",
       "      <th>High</th>\n",
       "      <th>Low</th>\n",
       "      <th>Close</th>\n",
       "      <th>Volume</th>\n",
       "      <th>AdjustmentFactor</th>\n",
       "      <th>ExpectedDividend</th>\n",
       "      <th>Target</th>\n",
       "    </tr>\n",
       "  </thead>\n",
       "  <tbody>\n",
       "    <tr>\n",
       "      <th>count</th>\n",
       "      <td>2332531</td>\n",
       "      <td>2324923</td>\n",
       "      <td>2324923</td>\n",
       "      <td>2324923</td>\n",
       "      <td>2324923</td>\n",
       "      <td>2332531</td>\n",
       "      <td>2.332531e+06</td>\n",
       "      <td>18865</td>\n",
       "      <td>2.332293e+06</td>\n",
       "    </tr>\n",
       "    <tr>\n",
       "      <th>mean</th>\n",
       "      <td>5894</td>\n",
       "      <td>2594</td>\n",
       "      <td>2626</td>\n",
       "      <td>2561</td>\n",
       "      <td>2594</td>\n",
       "      <td>691936</td>\n",
       "      <td>1.000508e+00</td>\n",
       "      <td>22</td>\n",
       "      <td>4.450964e-04</td>\n",
       "    </tr>\n",
       "    <tr>\n",
       "      <th>std</th>\n",
       "      <td>2404</td>\n",
       "      <td>3577</td>\n",
       "      <td>3619</td>\n",
       "      <td>3533</td>\n",
       "      <td>3576</td>\n",
       "      <td>3911255</td>\n",
       "      <td>6.773040e-02</td>\n",
       "      <td>29</td>\n",
       "      <td>2.339879e-02</td>\n",
       "    </tr>\n",
       "    <tr>\n",
       "      <th>min</th>\n",
       "      <td>1301</td>\n",
       "      <td>14</td>\n",
       "      <td>15</td>\n",
       "      <td>13</td>\n",
       "      <td>14</td>\n",
       "      <td>0</td>\n",
       "      <td>1.000000e-01</td>\n",
       "      <td>0</td>\n",
       "      <td>-5.785414e-01</td>\n",
       "    </tr>\n",
       "    <tr>\n",
       "      <th>25%</th>\n",
       "      <td>3891</td>\n",
       "      <td>1022</td>\n",
       "      <td>1035</td>\n",
       "      <td>1009</td>\n",
       "      <td>1022</td>\n",
       "      <td>30300</td>\n",
       "      <td>1.000000e+00</td>\n",
       "      <td>5</td>\n",
       "      <td>-1.049869e-02</td>\n",
       "    </tr>\n",
       "    <tr>\n",
       "      <th>50%</th>\n",
       "      <td>6238</td>\n",
       "      <td>1812</td>\n",
       "      <td>1834</td>\n",
       "      <td>1790</td>\n",
       "      <td>1811</td>\n",
       "      <td>107100</td>\n",
       "      <td>1.000000e+00</td>\n",
       "      <td>15</td>\n",
       "      <td>0.000000e+00</td>\n",
       "    </tr>\n",
       "    <tr>\n",
       "      <th>75%</th>\n",
       "      <td>7965</td>\n",
       "      <td>3030</td>\n",
       "      <td>3070</td>\n",
       "      <td>2995</td>\n",
       "      <td>3030</td>\n",
       "      <td>402100</td>\n",
       "      <td>1.000000e+00</td>\n",
       "      <td>30</td>\n",
       "      <td>1.053159e-02</td>\n",
       "    </tr>\n",
       "    <tr>\n",
       "      <th>max</th>\n",
       "      <td>9997</td>\n",
       "      <td>109950</td>\n",
       "      <td>110500</td>\n",
       "      <td>107200</td>\n",
       "      <td>109550</td>\n",
       "      <td>643654000</td>\n",
       "      <td>2.000000e+01</td>\n",
       "      <td>1070</td>\n",
       "      <td>1.119512e+00</td>\n",
       "    </tr>\n",
       "  </tbody>\n",
       "</table>\n",
       "</div>"
      ],
      "text/plain": [
       "          Code     Open     High      Low    Close     Volume  \\\n",
       "count  2332531  2324923  2324923  2324923  2324923    2332531   \n",
       "mean      5894     2594     2626     2561     2594     691936   \n",
       "std       2404     3577     3619     3533     3576    3911255   \n",
       "min       1301       14       15       13       14          0   \n",
       "25%       3891     1022     1035     1009     1022      30300   \n",
       "50%       6238     1812     1834     1790     1811     107100   \n",
       "75%       7965     3030     3070     2995     3030     402100   \n",
       "max       9997   109950   110500   107200   109550  643654000   \n",
       "\n",
       "       AdjustmentFactor  ExpectedDividend        Target  \n",
       "count      2.332531e+06             18865  2.332293e+06  \n",
       "mean       1.000508e+00                22  4.450964e-04  \n",
       "std        6.773040e-02                29  2.339879e-02  \n",
       "min        1.000000e-01                 0 -5.785414e-01  \n",
       "25%        1.000000e+00                 5 -1.049869e-02  \n",
       "50%        1.000000e+00                15  0.000000e+00  \n",
       "75%        1.000000e+00                30  1.053159e-02  \n",
       "max        2.000000e+01              1070  1.119512e+00  "
      ]
     },
     "execution_count": 5,
     "metadata": {},
     "output_type": "execute_result"
    }
   ],
   "source": [
    "#cast some columns to int (makes them easier to read)\n",
    "col_types = dict()\n",
    "for col in ['Code', 'Open', 'High', 'Low', 'Close', 'Volume', 'ExpectedDividend']:\n",
    "    col_types[col] = 'int32'\n",
    "    \n",
    "data.describe().astype(col_types)"
   ]
  },
  {
   "cell_type": "markdown",
   "id": "81cbd554-c4bc-4cda-853d-dcc6597b5391",
   "metadata": {},
   "source": [
    "### Analyzing dates\n",
    "Most stocks are listed from the first date January 1st 2017 (~1850 stocks), and other stocks are gradually added to dataset. They are added monotonically, so no stocks are removed from the dataset only added."
   ]
  },
  {
   "cell_type": "code",
   "execution_count": 6,
   "id": "bd59001b-2d58-4559-86af-4e5b0d025420",
   "metadata": {},
   "outputs": [
    {
     "data": {
      "image/png": "[encoded data removed]",
      "text/plain": [
       "<Figure size 1080x669.6 with 1 Axes>"
      ]
     },
     "metadata": {
      "needs_background": "light"
     },
     "output_type": "display_data"
    }
   ],
   "source": [
    "#First lets analyze by date\n",
    "\n",
    "\n",
    "stocks_day = data.groupby(by=['Date']).size() #computes number of stocks listed on each date\n",
    "#plot results\n",
    "ax = sns.lineplot(x = stocks_day.index, y= stocks_day.values)\n",
    "ax.set_xticklabels([stocks_day.index[0]]+['']*(len(stocks_day)-2)+[stocks_day.index[-1]], rotation=90)\n",
    "ax.set(ylabel='Number of Stocks Listed')\n",
    "plt.gcf().set_size_inches(15, 9.3, forward=True) \n",
    "plt.show()"
   ]
  },
  {
   "cell_type": "code",
   "execution_count": 7,
   "id": "a7ef17f1-cf9f-4f22-a9f7-f81f691a58a4",
   "metadata": {},
   "outputs": [
    {
     "name": "stdout",
     "output_type": "stream",
     "text": [
      "Final stock(s) is added on 2020-12-23 and has a total of 232 rows. In total there are 1202 dates listed in the dataset.\n"
     ]
    }
   ],
   "source": [
    "full_stocks =stocks_day[stocks_day==2000]\n",
    "print(\"Final stock(s) is added on %s and has a total of %d rows. In total there are %d dates listed in the dataset.\" \n",
    "      % (full_stocks.index[0], full_stocks.count(),stocks_day.count(),))"
   ]
  },
  {
   "cell_type": "code",
   "execution_count": 8,
   "id": "24b30d0e-aaa0-4bd8-997a-0c359099619d",
   "metadata": {},
   "outputs": [],
   "source": [
    "#create a function to calculate the number of days between two dates\n",
    "def num_days(first, last):\n",
    "    #Number of days between two dates\n",
    "    dates = []\n",
    "    for day in [first, last]:\n",
    "        dates.append(date(int(day[:4]), int(day[5:7]), int(day[8:])))\n",
    "    delta = dates[1] - dates[0]\n",
    "    return delta       "
   ]
  },
  {
   "cell_type": "code",
   "execution_count": 9,
   "id": "3c550302-b99c-4787-8f2d-7390a982665f",
   "metadata": {},
   "outputs": [
    {
     "name": "stdout",
     "output_type": "stream",
     "text": [
      "The first date is 2017-01-04, the last date is 2021-12-03, the two dates are 1794 days apart\n"
     ]
    }
   ],
   "source": [
    "f_date = data['Date'].iloc[0]\n",
    "l_date = data['Date'].iloc[-1]\n",
    "print(\"The first date is %s, the last date is %s, the two dates are %s days apart\" % (f_date, l_date, num_days(f_date,l_date).days,))"
   ]
  },
  {
   "cell_type": "markdown",
   "id": "462c8465-daab-4af5-b608-4fb745c08b55",
   "metadata": {},
   "source": [
    "There are a different amount of days listed per year."
   ]
  },
  {
   "cell_type": "code",
   "execution_count": 10,
   "id": "3e4e6687-7345-456f-a0dc-7e70fc3f3677",
   "metadata": {},
   "outputs": [
    {
     "name": "stdout",
     "output_type": "stream",
     "text": [
      "The total number of days listed by year:\n"
     ]
    },
    {
     "data": {
      "text/plain": [
       "Year\n",
       "2017    247\n",
       "2018    245\n",
       "2019    241\n",
       "2020    243\n",
       "2021    226\n",
       "dtype: int64"
      ]
     },
     "execution_count": 10,
     "metadata": {},
     "output_type": "execute_result"
    }
   ],
   "source": [
    "#new row denoting if date in column is first occurence\n",
    "#first change date to datetime\n",
    "data['Date'] = pd.to_datetime(data['Date'])\n",
    "data['Year'] = data['Date'].dt.year\n",
    "data['unique'] = (~data['Date'].duplicated()).astype(int)\n",
    "print('The total number of days listed by year:')\n",
    "data[data['unique']==1].groupby(by=['Year']).size()"
   ]
  },
  {
   "cell_type": "code",
   "execution_count": 11,
   "id": "83bb7c50-681f-466c-b8f8-a99b95f2361b",
   "metadata": {},
   "outputs": [],
   "source": [
    "data.drop(columns = ['Year','unique'], inplace = True)"
   ]
  },
  {
   "cell_type": "markdown",
   "id": "45729487-0c94-425c-b2c0-43c70b0d5b4c",
   "metadata": {},
   "source": [
    "### Distribution of days between consecutive dates in dataset\n",
    "Most dates are either one day apart (consecutive) or are three days apart (weekends)."
   ]
  },
  {
   "cell_type": "code",
   "execution_count": 12,
   "id": "31c5b840-6596-40b1-af8b-e428730c4933",
   "metadata": {},
   "outputs": [
    {
     "data": {
      "image/png": "[encoded data removed]",
      "text/plain": [
       "<Figure size 1080x669.6 with 1 Axes>"
      ]
     },
     "metadata": {
      "needs_background": "light"
     },
     "output_type": "display_data"
    }
   ],
   "source": [
    "#Number of days between dates\n",
    "day_diffs = np.diff(data['Date'].unique()).astype('timedelta64[D]').astype('int32')\n",
    "ax = sns.histplot(x=day_diffs, binwidth=1)\n",
    "ax.set(title='Difference in consecutive dates in dataset')\n",
    "ind = np.arange(4)+ 1.5\n",
    "ax.set_xticks(ind, labels=['Consecutive Days', 'One Day missing', 'Two days missing', 'Three days missing'])\n",
    "ax.set_xticklabels(ax.get_xticklabels(), rotation=90)\n",
    "plt.gcf().set_size_inches(15, 9.3, forward=True) \n",
    "plt.show()"
   ]
  },
  {
   "cell_type": "markdown",
   "id": "a31096a9-96ec-4139-9653-8d5f00dc1f30",
   "metadata": {},
   "source": [
    "### Distribution of Open, High, Low, Close, Volume by Stock"
   ]
  },
  {
   "cell_type": "code",
   "execution_count": 13,
   "id": "fb9e8f49-33ea-4a43-bc74-a193aa438364",
   "metadata": {},
   "outputs": [],
   "source": [
    "means = data.groupby(by=['Code']).mean()[['Open','High', 'Low', 'Close']]"
   ]
  },
  {
   "cell_type": "markdown",
   "id": "ff7d674c-3ff6-48c2-adea-8f5f7817a367",
   "metadata": {},
   "source": [
    "The stock distribution is heavily right skewed."
   ]
  },
  {
   "cell_type": "code",
   "execution_count": 14,
   "id": "25d1ce28-c303-4856-9f55-205d958b59a6",
   "metadata": {},
   "outputs": [
    {
     "data": {
      "image/png": "[encoded data removed]",
      "text/plain": [
       "<Figure size 1080x669.6 with 4 Axes>"
      ]
     },
     "metadata": {
      "needs_background": "light"
     },
     "output_type": "display_data"
    }
   ],
   "source": [
    "fig, axs = plt.subplots(2, 2)\n",
    "for ax,col in zip(axs.flat, means.columns):\n",
    "    sns.histplot(x=means[col], ax=ax)\n",
    "    ax.set_title(col, y=1.0, pad=-14)\n",
    "    \n",
    "for ax in axs.flat:\n",
    "    ax.set(xlabel='Value', ylabel='Count')\n",
    "# Hide x labels and tick labels for top plots and y ticks for right plots.\n",
    "for ax in axs.flat:\n",
    "    ax.label_outer()\n",
    "    \n",
    "plt.gcf().set_size_inches(15, 9.3, forward=True) \n",
    "plt.show()"
   ]
  },
  {
   "cell_type": "markdown",
   "id": "517cd9ea-cc84-4de3-b03d-fb0884122e64",
   "metadata": {},
   "source": [
    "# Missing Values and Imputing"
   ]
  },
  {
   "cell_type": "code",
   "execution_count": 15,
   "id": "4424f1e2-6148-43d4-bdd1-70632f489a87",
   "metadata": {},
   "outputs": [
    {
     "data": {
      "text/html": [
       "<div>\n",
       "<style scoped>\n",
       "    .dataframe tbody tr th:only-of-type {\n",
       "        vertical-align: middle;\n",
       "    }\n",
       "\n",
       "    .dataframe tbody tr th {\n",
       "        vertical-align: top;\n",
       "    }\n",
       "\n",
       "    .dataframe thead th {\n",
       "        text-align: right;\n",
       "    }\n",
       "</style>\n",
       "<table border=\"1\" class=\"dataframe\">\n",
       "  <thead>\n",
       "    <tr style=\"text-align: right;\">\n",
       "      <th></th>\n",
       "      <th>Number of Missing Data</th>\n",
       "      <th>% missing</th>\n",
       "    </tr>\n",
       "  </thead>\n",
       "  <tbody>\n",
       "    <tr>\n",
       "      <th>RowId</th>\n",
       "      <td>0</td>\n",
       "      <td>0.000000</td>\n",
       "    </tr>\n",
       "    <tr>\n",
       "      <th>Date</th>\n",
       "      <td>0</td>\n",
       "      <td>0.000000</td>\n",
       "    </tr>\n",
       "    <tr>\n",
       "      <th>Code</th>\n",
       "      <td>0</td>\n",
       "      <td>0.000000</td>\n",
       "    </tr>\n",
       "    <tr>\n",
       "      <th>Open</th>\n",
       "      <td>7608</td>\n",
       "      <td>0.326169</td>\n",
       "    </tr>\n",
       "    <tr>\n",
       "      <th>High</th>\n",
       "      <td>7608</td>\n",
       "      <td>0.326169</td>\n",
       "    </tr>\n",
       "    <tr>\n",
       "      <th>Low</th>\n",
       "      <td>7608</td>\n",
       "      <td>0.326169</td>\n",
       "    </tr>\n",
       "    <tr>\n",
       "      <th>Close</th>\n",
       "      <td>7608</td>\n",
       "      <td>0.326169</td>\n",
       "    </tr>\n",
       "    <tr>\n",
       "      <th>Volume</th>\n",
       "      <td>0</td>\n",
       "      <td>0.000000</td>\n",
       "    </tr>\n",
       "    <tr>\n",
       "      <th>AdjustmentFactor</th>\n",
       "      <td>0</td>\n",
       "      <td>0.000000</td>\n",
       "    </tr>\n",
       "    <tr>\n",
       "      <th>ExpectedDividend</th>\n",
       "      <td>2313666</td>\n",
       "      <td>99.191222</td>\n",
       "    </tr>\n",
       "    <tr>\n",
       "      <th>SupervisionFlag</th>\n",
       "      <td>0</td>\n",
       "      <td>0.000000</td>\n",
       "    </tr>\n",
       "    <tr>\n",
       "      <th>Target</th>\n",
       "      <td>238</td>\n",
       "      <td>0.010204</td>\n",
       "    </tr>\n",
       "  </tbody>\n",
       "</table>\n",
       "</div>"
      ],
      "text/plain": [
       "                  Number of Missing Data  % missing\n",
       "RowId                                  0   0.000000\n",
       "Date                                   0   0.000000\n",
       "Code                                   0   0.000000\n",
       "Open                                7608   0.326169\n",
       "High                                7608   0.326169\n",
       "Low                                 7608   0.326169\n",
       "Close                               7608   0.326169\n",
       "Volume                                 0   0.000000\n",
       "AdjustmentFactor                       0   0.000000\n",
       "ExpectedDividend                 2313666  99.191222\n",
       "SupervisionFlag                        0   0.000000\n",
       "Target                               238   0.010204"
      ]
     },
     "execution_count": 15,
     "metadata": {},
     "output_type": "execute_result"
    }
   ],
   "source": [
    "num_na = data.isna().sum()\n",
    "data_na = pd.DataFrame(num_na, columns = ['Number of Missing Data'])\n",
    "data_na['% missing'] = num_na/len(data) * 100\n",
    "data_na"
   ]
  },
  {
   "cell_type": "markdown",
   "id": "daba1cda-9c79-4bcd-b09a-fd459a6ff0f7",
   "metadata": {},
   "source": [
    "Replace ExpectedDividend N/A with 0 and note that all missing values are grouped."
   ]
  },
  {
   "cell_type": "code",
   "execution_count": 16,
   "id": "2a22faf3-589a-4abe-bf1a-444106c1ebbe",
   "metadata": {},
   "outputs": [
    {
     "data": {
      "text/plain": [
       "RowId                  0\n",
       "Date                   0\n",
       "Code                   0\n",
       "Open                7608\n",
       "High                7608\n",
       "Low                 7608\n",
       "Close               7608\n",
       "Volume                 0\n",
       "AdjustmentFactor       0\n",
       "ExpectedDividend       0\n",
       "SupervisionFlag        0\n",
       "Target               238\n",
       "dtype: int64"
      ]
     },
     "execution_count": 16,
     "metadata": {},
     "output_type": "execute_result"
    }
   ],
   "source": [
    "data['ExpectedDividend'] = data['ExpectedDividend'].fillna(0)\n",
    "#finds all rows with missing values in Open and checks other rows for missing\n",
    "data[data['Open'].isna()].isna().sum()"
   ]
  },
  {
   "cell_type": "markdown",
   "id": "9c1ad981-108c-4859-9fee-3f1d2b53ae68",
   "metadata": {},
   "source": [
    "### The date 2020-10-01 Has missing values for all entries"
   ]
  },
  {
   "cell_type": "code",
   "execution_count": 17,
   "id": "c71f4674-b71e-4ffc-88e4-8d1b09c95c6c",
   "metadata": {},
   "outputs": [
    {
     "data": {
      "text/plain": [
       "2020-10-01    1988\n",
       "2017-03-16      15\n",
       "2019-10-09      14\n",
       "2019-04-04      14\n",
       "2021-10-29      13\n",
       "              ... \n",
       "2017-12-25       1\n",
       "2017-12-26       1\n",
       "2020-03-13       1\n",
       "2018-01-04       1\n",
       "2018-02-21       1\n",
       "Name: Date, Length: 1175, dtype: int64"
      ]
     },
     "execution_count": 17,
     "metadata": {},
     "output_type": "execute_result"
    }
   ],
   "source": [
    "#missing data is grouped so just have to check that one column has missing values\n",
    "missing = data[data['Open'].isna()]\n",
    "missing['Date'].value_counts()"
   ]
  },
  {
   "cell_type": "code",
   "execution_count": 18,
   "id": "522563e7-fa36-4915-8745-4581c7fbcbc6",
   "metadata": {},
   "outputs": [],
   "source": [
    "remove_date = missing['Date'].value_counts().index[0]\n",
    "data.drop(data[data['Date']==remove_date].index, inplace=True)"
   ]
  },
  {
   "cell_type": "code",
   "execution_count": 19,
   "id": "99f365a4-d1e2-420a-b7d2-6540ad04e061",
   "metadata": {},
   "outputs": [
    {
     "name": "stdout",
     "output_type": "stream",
     "text": [
      "122 stocks have atleast one missing value\n"
     ]
    }
   ],
   "source": [
    "missing = data[data['Open'].isna()]#stock codes that have atleast one missing value\n",
    "codes_missing = missing['Code'].value_counts() #number missing values for stocks that have missing values\n",
    "print(\"%d stocks have atleast one missing value\" % (len(codes_missing),))"
   ]
  },
  {
   "cell_type": "markdown",
   "id": "42552409-bfec-4cc0-bf4a-41fad8cbfd96",
   "metadata": {},
   "source": [
    "### For stocks with missing values, what percentage of their values are missing?"
   ]
  },
  {
   "cell_type": "code",
   "execution_count": 20,
   "id": "fd53da38-2646-40dc-984f-4bb537081bf7",
   "metadata": {},
   "outputs": [
    {
     "data": {
      "image/png": "[encoded data removed]",
      "text/plain": [
       "<Figure size 504x648 with 1 Axes>"
      ]
     },
     "metadata": {
      "needs_background": "light"
     },
     "output_type": "display_data"
    }
   ],
   "source": [
    "pct_missing = []\n",
    "for code in codes_missing.index:\n",
    "    codes_series = data[data['Code']==code]\n",
    "    pct_missing.append(codes_missing.loc[code]/len(codes_series)*100)\n",
    "    \n",
    "pct_missing = pd.Series(data=pct_missing, index=codes_missing.index)\n",
    "ax = sns.histplot(x=pct_missing, binwidth=1)\n",
    "ax.set(title='% of values missing (from stock series with atleast one missing value)')\n",
    "plt.gcf().set_size_inches(7, 9, forward=True) \n",
    "plt.show()"
   ]
  },
  {
   "cell_type": "markdown",
   "id": "73cfdcca-8fd0-40ea-8e88-4bfe3c6f4c26",
   "metadata": {},
   "source": [
    "### Train/Validation data split\n",
    "We will need to deal with missing values in train data without any data leakage from holdout data. Note that data will be split into train/validation sequentially, so that data before some date will be used as training data and data after the date will be used for validation."
   ]
  },
  {
   "cell_type": "code",
   "execution_count": 21,
   "id": "626a807e-9575-4273-afa5-4bb3ac6b3592",
   "metadata": {},
   "outputs": [],
   "source": [
    "data['Volume'] = data['Volume'].replace(0, np.float64(np.nan))\n",
    "holdout_data = data.iloc[-32*2000:].copy()\n",
    "train_data = data.iloc[:-32*2000]"
   ]
  },
  {
   "cell_type": "markdown",
   "id": "bed616bb-40cc-42c2-8060-5916d3511d3b",
   "metadata": {},
   "source": [
    "### First consider the train data"
   ]
  },
  {
   "cell_type": "code",
   "execution_count": 22,
   "id": "585cabbb-cbaf-4621-a97e-d20b34f1f0df",
   "metadata": {},
   "outputs": [],
   "source": [
    "missing = train_data[train_data['Open'].isna()]#stock codes that have atleast one missing value\n",
    "codes_missing = missing['Code'].value_counts() #number missing values for stocks that have missing values"
   ]
  },
  {
   "cell_type": "code",
   "execution_count": 23,
   "id": "6a68369b-ca22-4842-9996-073fb58b0cd1",
   "metadata": {},
   "outputs": [],
   "source": [
    "#two helper functions to analyze data\n",
    "def fetch_nearest_rows(row, df):\n",
    "    #returns entries just before and just after for a stock specified by row\n",
    "    \n",
    "    #first fetch stock code to create series containing only that stock\n",
    "    code = row['Code']\n",
    "    idx = row.name #index of row in df\n",
    "    code_series = df[df['Code']==code]\n",
    "    \n",
    "    #fetch idx of row in series containing only that stock\n",
    "    indices = code_series.index.to_list()\n",
    "    idx = indices.index(idx)\n",
    "    \n",
    "    #check that row is not last or first value in series\n",
    "    n = len(code_series)\n",
    "    \n",
    "    if idx==0:\n",
    "        return None, code_series.iloc[idx+1]\n",
    "    elif idx==n-1:\n",
    "        return code_series.iloc[idx-1], None\n",
    "    else:\n",
    "        return code_series.iloc[idx-1], code_series.iloc[idx+1]    \n",
    "    \n",
    "def first_last(missing_df, df):\n",
    "    #returns two lists\n",
    "    #first list contains stock codes that have missing value at the start of their code series\n",
    "    #second list contains stock codes where the missing value is at the end\n",
    "    first_entries = []\n",
    "    last_entries = []\n",
    "    \n",
    "    codes = missing_df['Code'].unique()\n",
    "    \n",
    "    for code in codes:\n",
    "        code_series = df[df['Code']==code] #Fetch the entire code series for a code from original df\n",
    "        if code_series.iloc[0].isna().any():\n",
    "            first_entries.append(code)\n",
    "        if code_series.iloc[-1].isna().any():\n",
    "            last_entries.append(code)\n",
    "            \n",
    "    return first_entries, last_entries"
   ]
  },
  {
   "cell_type": "markdown",
   "id": "17b4082c-15dc-45bf-8c1b-cf8c1f1fd1e8",
   "metadata": {},
   "source": [
    "## Imputing\n",
    "We want to impute the missing values carefully. We want to be sure that when we are imputing a row we are using data that corresponds to that code. So to impute we will need to consider a \"code series\" corresponding to all entries containing that stock. To impute we will use linear interpolation and for this we need to \n",
    "1. Make sure that there is not a large streak of missing values\n",
    "2. if there are missing values at the start or end of a code series they will need to be handled differently"
   ]
  },
  {
   "cell_type": "code",
   "execution_count": 24,
   "id": "a5ae3d75-cd58-42ad-9ca7-4cace1925ffa",
   "metadata": {},
   "outputs": [
    {
     "name": "stdout",
     "output_type": "stream",
     "text": [
      "Number of stock series with missing first day values:24, last day values:8\n"
     ]
    }
   ],
   "source": [
    "#check codes with missing values at start/end of list\n",
    "first_entries ,last_entries = first_last(missing, train_data)\n",
    "print(f'Number of stock series with missing first day values:{len(first_entries)}, last day values:{len(last_entries)}')"
   ]
  },
  {
   "cell_type": "markdown",
   "id": "d574027c-0554-4dff-8a9e-9a794ceaa1d0",
   "metadata": {},
   "source": [
    "Looking at codes with missing first entry"
   ]
  },
  {
   "cell_type": "code",
   "execution_count": 25,
   "id": "c8bd580c-649e-4cb7-a422-bbb0deb1c0ad",
   "metadata": {},
   "outputs": [
    {
     "data": {
      "text/html": [
       "<div>\n",
       "<style scoped>\n",
       "    .dataframe tbody tr th:only-of-type {\n",
       "        vertical-align: middle;\n",
       "    }\n",
       "\n",
       "    .dataframe tbody tr th {\n",
       "        vertical-align: top;\n",
       "    }\n",
       "\n",
       "    .dataframe thead th {\n",
       "        text-align: right;\n",
       "    }\n",
       "</style>\n",
       "<table border=\"1\" class=\"dataframe\">\n",
       "  <thead>\n",
       "    <tr style=\"text-align: right;\">\n",
       "      <th></th>\n",
       "      <th>Missing First</th>\n",
       "      <th>Missing Last</th>\n",
       "    </tr>\n",
       "  </thead>\n",
       "  <tbody>\n",
       "    <tr>\n",
       "      <th>RowId</th>\n",
       "      <td>0</td>\n",
       "      <td>0</td>\n",
       "    </tr>\n",
       "    <tr>\n",
       "      <th>Date</th>\n",
       "      <td>0</td>\n",
       "      <td>0</td>\n",
       "    </tr>\n",
       "    <tr>\n",
       "      <th>Code</th>\n",
       "      <td>0</td>\n",
       "      <td>0</td>\n",
       "    </tr>\n",
       "    <tr>\n",
       "      <th>Open</th>\n",
       "      <td>412</td>\n",
       "      <td>1511</td>\n",
       "    </tr>\n",
       "    <tr>\n",
       "      <th>High</th>\n",
       "      <td>412</td>\n",
       "      <td>1511</td>\n",
       "    </tr>\n",
       "    <tr>\n",
       "      <th>Low</th>\n",
       "      <td>412</td>\n",
       "      <td>1511</td>\n",
       "    </tr>\n",
       "    <tr>\n",
       "      <th>Close</th>\n",
       "      <td>412</td>\n",
       "      <td>1511</td>\n",
       "    </tr>\n",
       "    <tr>\n",
       "      <th>Volume</th>\n",
       "      <td>412</td>\n",
       "      <td>1511</td>\n",
       "    </tr>\n",
       "    <tr>\n",
       "      <th>AdjustmentFactor</th>\n",
       "      <td>0</td>\n",
       "      <td>0</td>\n",
       "    </tr>\n",
       "    <tr>\n",
       "      <th>ExpectedDividend</th>\n",
       "      <td>0</td>\n",
       "      <td>0</td>\n",
       "    </tr>\n",
       "    <tr>\n",
       "      <th>SupervisionFlag</th>\n",
       "      <td>0</td>\n",
       "      <td>0</td>\n",
       "    </tr>\n",
       "    <tr>\n",
       "      <th>Target</th>\n",
       "      <td>238</td>\n",
       "      <td>0</td>\n",
       "    </tr>\n",
       "  </tbody>\n",
       "</table>\n",
       "</div>"
      ],
      "text/plain": [
       "                  Missing First  Missing Last\n",
       "RowId                         0             0\n",
       "Date                          0             0\n",
       "Code                          0             0\n",
       "Open                        412          1511\n",
       "High                        412          1511\n",
       "Low                         412          1511\n",
       "Close                       412          1511\n",
       "Volume                      412          1511\n",
       "AdjustmentFactor              0             0\n",
       "ExpectedDividend              0             0\n",
       "SupervisionFlag               0             0\n",
       "Target                      238             0"
      ]
     },
     "execution_count": 25,
     "metadata": {},
     "output_type": "execute_result"
    }
   ],
   "source": [
    "first = missing[missing['Code'].isin(first_entries)]\n",
    "last = missing[missing['Code'].isin(last_entries)]\n",
    "first_na = first.isna().sum()\n",
    "last_na = last.isna().sum()\n",
    "data_na = pd.DataFrame(first_na, columns = ['Missing First'])\n",
    "data_na['Missing Last'] = last_na\n",
    "data_na"
   ]
  },
  {
   "cell_type": "markdown",
   "id": "dd18b980-def4-48fc-b7b1-2e4ed4ec9b88",
   "metadata": {},
   "source": [
    "These contain all missing target values. Additionally, they are at the start of code series 2987, 3540, 4056, 4382 with missing Open, High, Low, Close, Volume values. Note that 3540 has a large sequence of missing values at start of df."
   ]
  },
  {
   "cell_type": "code",
   "execution_count": 26,
   "id": "84d191db-0581-4143-8326-d48921db3e2d",
   "metadata": {},
   "outputs": [
    {
     "data": {
      "text/html": [
       "<div>\n",
       "<style scoped>\n",
       "    .dataframe tbody tr th:only-of-type {\n",
       "        vertical-align: middle;\n",
       "    }\n",
       "\n",
       "    .dataframe tbody tr th {\n",
       "        vertical-align: top;\n",
       "    }\n",
       "\n",
       "    .dataframe thead th {\n",
       "        text-align: right;\n",
       "    }\n",
       "</style>\n",
       "<table border=\"1\" class=\"dataframe\">\n",
       "  <thead>\n",
       "    <tr style=\"text-align: right;\">\n",
       "      <th></th>\n",
       "      <th>RowId</th>\n",
       "      <th>Date</th>\n",
       "      <th>Code</th>\n",
       "      <th>Open</th>\n",
       "      <th>High</th>\n",
       "      <th>Low</th>\n",
       "      <th>Close</th>\n",
       "      <th>Volume</th>\n",
       "      <th>AdjustmentFactor</th>\n",
       "      <th>ExpectedDividend</th>\n",
       "      <th>SupervisionFlag</th>\n",
       "      <th>Target</th>\n",
       "    </tr>\n",
       "  </thead>\n",
       "  <tbody>\n",
       "    <tr>\n",
       "      <th>401</th>\n",
       "      <td>20170104_3540</td>\n",
       "      <td>2017-01-04</td>\n",
       "      <td>3540</td>\n",
       "      <td>NaN</td>\n",
       "      <td>NaN</td>\n",
       "      <td>NaN</td>\n",
       "      <td>NaN</td>\n",
       "      <td>NaN</td>\n",
       "      <td>1.0</td>\n",
       "      <td>0.0</td>\n",
       "      <td>False</td>\n",
       "      <td>NaN</td>\n",
       "    </tr>\n",
       "    <tr>\n",
       "      <th>2266</th>\n",
       "      <td>20170105_3540</td>\n",
       "      <td>2017-01-05</td>\n",
       "      <td>3540</td>\n",
       "      <td>NaN</td>\n",
       "      <td>NaN</td>\n",
       "      <td>NaN</td>\n",
       "      <td>NaN</td>\n",
       "      <td>NaN</td>\n",
       "      <td>1.0</td>\n",
       "      <td>0.0</td>\n",
       "      <td>False</td>\n",
       "      <td>NaN</td>\n",
       "    </tr>\n",
       "    <tr>\n",
       "      <th>4131</th>\n",
       "      <td>20170106_3540</td>\n",
       "      <td>2017-01-06</td>\n",
       "      <td>3540</td>\n",
       "      <td>NaN</td>\n",
       "      <td>NaN</td>\n",
       "      <td>NaN</td>\n",
       "      <td>NaN</td>\n",
       "      <td>NaN</td>\n",
       "      <td>1.0</td>\n",
       "      <td>0.0</td>\n",
       "      <td>False</td>\n",
       "      <td>NaN</td>\n",
       "    </tr>\n",
       "    <tr>\n",
       "      <th>5996</th>\n",
       "      <td>20170110_3540</td>\n",
       "      <td>2017-01-10</td>\n",
       "      <td>3540</td>\n",
       "      <td>NaN</td>\n",
       "      <td>NaN</td>\n",
       "      <td>NaN</td>\n",
       "      <td>NaN</td>\n",
       "      <td>NaN</td>\n",
       "      <td>1.0</td>\n",
       "      <td>0.0</td>\n",
       "      <td>False</td>\n",
       "      <td>NaN</td>\n",
       "    </tr>\n",
       "    <tr>\n",
       "      <th>7861</th>\n",
       "      <td>20170111_3540</td>\n",
       "      <td>2017-01-11</td>\n",
       "      <td>3540</td>\n",
       "      <td>NaN</td>\n",
       "      <td>NaN</td>\n",
       "      <td>NaN</td>\n",
       "      <td>NaN</td>\n",
       "      <td>NaN</td>\n",
       "      <td>1.0</td>\n",
       "      <td>0.0</td>\n",
       "      <td>False</td>\n",
       "      <td>NaN</td>\n",
       "    </tr>\n",
       "    <tr>\n",
       "      <th>...</th>\n",
       "      <td>...</td>\n",
       "      <td>...</td>\n",
       "      <td>...</td>\n",
       "      <td>...</td>\n",
       "      <td>...</td>\n",
       "      <td>...</td>\n",
       "      <td>...</td>\n",
       "      <td>...</td>\n",
       "      <td>...</td>\n",
       "      <td>...</td>\n",
       "      <td>...</td>\n",
       "      <td>...</td>\n",
       "    </tr>\n",
       "    <tr>\n",
       "      <th>2258948</th>\n",
       "      <td>20211012_3540</td>\n",
       "      <td>2021-10-12</td>\n",
       "      <td>3540</td>\n",
       "      <td>6090.0</td>\n",
       "      <td>6200.0</td>\n",
       "      <td>6050.0</td>\n",
       "      <td>6100.0</td>\n",
       "      <td>15700.0</td>\n",
       "      <td>1.0</td>\n",
       "      <td>0.0</td>\n",
       "      <td>True</td>\n",
       "      <td>-0.006557</td>\n",
       "    </tr>\n",
       "    <tr>\n",
       "      <th>2260948</th>\n",
       "      <td>20211013_3540</td>\n",
       "      <td>2021-10-13</td>\n",
       "      <td>3540</td>\n",
       "      <td>6100.0</td>\n",
       "      <td>6260.0</td>\n",
       "      <td>5980.0</td>\n",
       "      <td>6100.0</td>\n",
       "      <td>116800.0</td>\n",
       "      <td>1.0</td>\n",
       "      <td>0.0</td>\n",
       "      <td>True</td>\n",
       "      <td>0.003300</td>\n",
       "    </tr>\n",
       "    <tr>\n",
       "      <th>2262948</th>\n",
       "      <td>20211014_3540</td>\n",
       "      <td>2021-10-14</td>\n",
       "      <td>3540</td>\n",
       "      <td>6080.0</td>\n",
       "      <td>6080.0</td>\n",
       "      <td>5900.0</td>\n",
       "      <td>6060.0</td>\n",
       "      <td>34500.0</td>\n",
       "      <td>1.0</td>\n",
       "      <td>0.0</td>\n",
       "      <td>True</td>\n",
       "      <td>-0.016447</td>\n",
       "    </tr>\n",
       "    <tr>\n",
       "      <th>2264948</th>\n",
       "      <td>20211015_3540</td>\n",
       "      <td>2021-10-15</td>\n",
       "      <td>3540</td>\n",
       "      <td>6060.0</td>\n",
       "      <td>6120.0</td>\n",
       "      <td>5990.0</td>\n",
       "      <td>6080.0</td>\n",
       "      <td>17900.0</td>\n",
       "      <td>1.0</td>\n",
       "      <td>0.0</td>\n",
       "      <td>True</td>\n",
       "      <td>0.008361</td>\n",
       "    </tr>\n",
       "    <tr>\n",
       "      <th>2266948</th>\n",
       "      <td>20211018_3540</td>\n",
       "      <td>2021-10-18</td>\n",
       "      <td>3540</td>\n",
       "      <td>6050.0</td>\n",
       "      <td>6120.0</td>\n",
       "      <td>5950.0</td>\n",
       "      <td>5980.0</td>\n",
       "      <td>18600.0</td>\n",
       "      <td>1.0</td>\n",
       "      <td>0.0</td>\n",
       "      <td>True</td>\n",
       "      <td>-0.014925</td>\n",
       "    </tr>\n",
       "  </tbody>\n",
       "</table>\n",
       "<p>1169 rows × 12 columns</p>\n",
       "</div>"
      ],
      "text/plain": [
       "                 RowId       Date  Code    Open    High     Low   Close  \\\n",
       "401      20170104_3540 2017-01-04  3540     NaN     NaN     NaN     NaN   \n",
       "2266     20170105_3540 2017-01-05  3540     NaN     NaN     NaN     NaN   \n",
       "4131     20170106_3540 2017-01-06  3540     NaN     NaN     NaN     NaN   \n",
       "5996     20170110_3540 2017-01-10  3540     NaN     NaN     NaN     NaN   \n",
       "7861     20170111_3540 2017-01-11  3540     NaN     NaN     NaN     NaN   \n",
       "...                ...        ...   ...     ...     ...     ...     ...   \n",
       "2258948  20211012_3540 2021-10-12  3540  6090.0  6200.0  6050.0  6100.0   \n",
       "2260948  20211013_3540 2021-10-13  3540  6100.0  6260.0  5980.0  6100.0   \n",
       "2262948  20211014_3540 2021-10-14  3540  6080.0  6080.0  5900.0  6060.0   \n",
       "2264948  20211015_3540 2021-10-15  3540  6060.0  6120.0  5990.0  6080.0   \n",
       "2266948  20211018_3540 2021-10-18  3540  6050.0  6120.0  5950.0  5980.0   \n",
       "\n",
       "           Volume  AdjustmentFactor  ExpectedDividend  SupervisionFlag  \\\n",
       "401           NaN               1.0               0.0            False   \n",
       "2266          NaN               1.0               0.0            False   \n",
       "4131          NaN               1.0               0.0            False   \n",
       "5996          NaN               1.0               0.0            False   \n",
       "7861          NaN               1.0               0.0            False   \n",
       "...           ...               ...               ...              ...   \n",
       "2258948   15700.0               1.0               0.0             True   \n",
       "2260948  116800.0               1.0               0.0             True   \n",
       "2262948   34500.0               1.0               0.0             True   \n",
       "2264948   17900.0               1.0               0.0             True   \n",
       "2266948   18600.0               1.0               0.0             True   \n",
       "\n",
       "           Target  \n",
       "401           NaN  \n",
       "2266          NaN  \n",
       "4131          NaN  \n",
       "5996          NaN  \n",
       "7861          NaN  \n",
       "...           ...  \n",
       "2258948 -0.006557  \n",
       "2260948  0.003300  \n",
       "2262948 -0.016447  \n",
       "2264948  0.008361  \n",
       "2266948 -0.014925  \n",
       "\n",
       "[1169 rows x 12 columns]"
      ]
     },
     "execution_count": 26,
     "metadata": {},
     "output_type": "execute_result"
    }
   ],
   "source": [
    "train_data[train_data['Code']==3540]"
   ]
  },
  {
   "cell_type": "code",
   "execution_count": 27,
   "id": "1de7e831-1e71-4a35-ba2b-e6f2ca0f73ae",
   "metadata": {},
   "outputs": [],
   "source": [
    "#drop beginning of these codes containing missing values\n",
    "train_data.drop(index=missing[missing['Target'].isna()].index, inplace=True)\n",
    "missing = train_data[train_data['Open'].isna()]\n",
    "first_entries ,last_entries = first_last(missing, train_data)\n",
    "first = missing[missing['Code'].isin(first_entries)]"
   ]
  },
  {
   "cell_type": "markdown",
   "id": "f3c9ed88-39e5-4fe6-b81e-7df85d1a16a5",
   "metadata": {},
   "source": [
    "Let's first inspect codes with first missing values"
   ]
  },
  {
   "cell_type": "code",
   "execution_count": 28,
   "id": "fd21ed4e-3fed-4b9d-b8fc-40470f50164f",
   "metadata": {},
   "outputs": [
    {
     "data": {
      "text/plain": [
       "9539    151\n",
       "3561      1\n",
       "4167      1\n",
       "4165      1\n",
       "2987      1\n",
       "4058      1\n",
       "4056      1\n",
       "4495      1\n",
       "4051      1\n",
       "7351      1\n",
       "7082      1\n",
       "4488      1\n",
       "4482      1\n",
       "4880      1\n",
       "4434      1\n",
       "7047      1\n",
       "4425      1\n",
       "4382      1\n",
       "6572      1\n",
       "9450      1\n",
       "3540      1\n",
       "3990      1\n",
       "3984      1\n",
       "4169      1\n",
       "Name: Code, dtype: int64"
      ]
     },
     "execution_count": 28,
     "metadata": {},
     "output_type": "execute_result"
    }
   ],
   "source": [
    "first['Code'].value_counts()"
   ]
  },
  {
   "cell_type": "markdown",
   "id": "e315ae6b-98f1-477e-b4e9-9538bdabf78f",
   "metadata": {},
   "source": [
    "### Need to keep in mind that 9539 also has a missing last value\n",
    "Need to make sure that 9539 doesn't have consecutive missing values at the start of the list. The rest can be safely imputed using the next observation"
   ]
  },
  {
   "cell_type": "code",
   "execution_count": 29,
   "id": "14777247-e435-494b-8a0b-2781ceaca7e9",
   "metadata": {},
   "outputs": [
    {
     "data": {
      "text/html": [
       "<div>\n",
       "<style scoped>\n",
       "    .dataframe tbody tr th:only-of-type {\n",
       "        vertical-align: middle;\n",
       "    }\n",
       "\n",
       "    .dataframe tbody tr th {\n",
       "        vertical-align: top;\n",
       "    }\n",
       "\n",
       "    .dataframe thead th {\n",
       "        text-align: right;\n",
       "    }\n",
       "</style>\n",
       "<table border=\"1\" class=\"dataframe\">\n",
       "  <thead>\n",
       "    <tr style=\"text-align: right;\">\n",
       "      <th></th>\n",
       "      <th>RowId</th>\n",
       "      <th>Date</th>\n",
       "      <th>Code</th>\n",
       "      <th>Open</th>\n",
       "      <th>High</th>\n",
       "      <th>Low</th>\n",
       "      <th>Close</th>\n",
       "      <th>Volume</th>\n",
       "      <th>AdjustmentFactor</th>\n",
       "      <th>ExpectedDividend</th>\n",
       "      <th>SupervisionFlag</th>\n",
       "      <th>Target</th>\n",
       "    </tr>\n",
       "  </thead>\n",
       "  <tbody>\n",
       "    <tr>\n",
       "      <th>1753</th>\n",
       "      <td>20170104_9539</td>\n",
       "      <td>2017-01-04</td>\n",
       "      <td>9539</td>\n",
       "      <td>NaN</td>\n",
       "      <td>NaN</td>\n",
       "      <td>NaN</td>\n",
       "      <td>NaN</td>\n",
       "      <td>NaN</td>\n",
       "      <td>1.0</td>\n",
       "      <td>0.0</td>\n",
       "      <td>False</td>\n",
       "      <td>-0.004149</td>\n",
       "    </tr>\n",
       "    <tr>\n",
       "      <th>3618</th>\n",
       "      <td>20170105_9539</td>\n",
       "      <td>2017-01-05</td>\n",
       "      <td>9539</td>\n",
       "      <td>482.0</td>\n",
       "      <td>482.0</td>\n",
       "      <td>482.0</td>\n",
       "      <td>482.0</td>\n",
       "      <td>1000.0</td>\n",
       "      <td>1.0</td>\n",
       "      <td>0.0</td>\n",
       "      <td>False</td>\n",
       "      <td>0.000000</td>\n",
       "    </tr>\n",
       "    <tr>\n",
       "      <th>5483</th>\n",
       "      <td>20170106_9539</td>\n",
       "      <td>2017-01-06</td>\n",
       "      <td>9539</td>\n",
       "      <td>480.0</td>\n",
       "      <td>480.0</td>\n",
       "      <td>480.0</td>\n",
       "      <td>480.0</td>\n",
       "      <td>1000.0</td>\n",
       "      <td>1.0</td>\n",
       "      <td>0.0</td>\n",
       "      <td>False</td>\n",
       "      <td>0.000000</td>\n",
       "    </tr>\n",
       "    <tr>\n",
       "      <th>7348</th>\n",
       "      <td>20170110_9539</td>\n",
       "      <td>2017-01-10</td>\n",
       "      <td>9539</td>\n",
       "      <td>480.0</td>\n",
       "      <td>480.0</td>\n",
       "      <td>480.0</td>\n",
       "      <td>480.0</td>\n",
       "      <td>2000.0</td>\n",
       "      <td>1.0</td>\n",
       "      <td>0.0</td>\n",
       "      <td>False</td>\n",
       "      <td>-0.008333</td>\n",
       "    </tr>\n",
       "    <tr>\n",
       "      <th>9213</th>\n",
       "      <td>20170111_9539</td>\n",
       "      <td>2017-01-11</td>\n",
       "      <td>9539</td>\n",
       "      <td>480.0</td>\n",
       "      <td>480.0</td>\n",
       "      <td>480.0</td>\n",
       "      <td>480.0</td>\n",
       "      <td>1000.0</td>\n",
       "      <td>1.0</td>\n",
       "      <td>0.0</td>\n",
       "      <td>False</td>\n",
       "      <td>0.006303</td>\n",
       "    </tr>\n",
       "    <tr>\n",
       "      <th>...</th>\n",
       "      <td>...</td>\n",
       "      <td>...</td>\n",
       "      <td>...</td>\n",
       "      <td>...</td>\n",
       "      <td>...</td>\n",
       "      <td>...</td>\n",
       "      <td>...</td>\n",
       "      <td>...</td>\n",
       "      <td>...</td>\n",
       "      <td>...</td>\n",
       "      <td>...</td>\n",
       "      <td>...</td>\n",
       "    </tr>\n",
       "    <tr>\n",
       "      <th>2260419</th>\n",
       "      <td>20211012_9539</td>\n",
       "      <td>2021-10-12</td>\n",
       "      <td>9539</td>\n",
       "      <td>3290.0</td>\n",
       "      <td>3290.0</td>\n",
       "      <td>3290.0</td>\n",
       "      <td>3290.0</td>\n",
       "      <td>100.0</td>\n",
       "      <td>1.0</td>\n",
       "      <td>0.0</td>\n",
       "      <td>False</td>\n",
       "      <td>0.000000</td>\n",
       "    </tr>\n",
       "    <tr>\n",
       "      <th>2262419</th>\n",
       "      <td>20211013_9539</td>\n",
       "      <td>2021-10-13</td>\n",
       "      <td>9539</td>\n",
       "      <td>3230.0</td>\n",
       "      <td>3295.0</td>\n",
       "      <td>3230.0</td>\n",
       "      <td>3295.0</td>\n",
       "      <td>200.0</td>\n",
       "      <td>1.0</td>\n",
       "      <td>0.0</td>\n",
       "      <td>False</td>\n",
       "      <td>0.000000</td>\n",
       "    </tr>\n",
       "    <tr>\n",
       "      <th>2264419</th>\n",
       "      <td>20211014_9539</td>\n",
       "      <td>2021-10-14</td>\n",
       "      <td>9539</td>\n",
       "      <td>3295.0</td>\n",
       "      <td>3295.0</td>\n",
       "      <td>3295.0</td>\n",
       "      <td>3295.0</td>\n",
       "      <td>100.0</td>\n",
       "      <td>1.0</td>\n",
       "      <td>0.0</td>\n",
       "      <td>False</td>\n",
       "      <td>0.000000</td>\n",
       "    </tr>\n",
       "    <tr>\n",
       "      <th>2266419</th>\n",
       "      <td>20211015_9539</td>\n",
       "      <td>2021-10-15</td>\n",
       "      <td>9539</td>\n",
       "      <td>NaN</td>\n",
       "      <td>NaN</td>\n",
       "      <td>NaN</td>\n",
       "      <td>NaN</td>\n",
       "      <td>NaN</td>\n",
       "      <td>1.0</td>\n",
       "      <td>0.0</td>\n",
       "      <td>False</td>\n",
       "      <td>0.018209</td>\n",
       "    </tr>\n",
       "    <tr>\n",
       "      <th>2268419</th>\n",
       "      <td>20211018_9539</td>\n",
       "      <td>2021-10-18</td>\n",
       "      <td>9539</td>\n",
       "      <td>NaN</td>\n",
       "      <td>NaN</td>\n",
       "      <td>NaN</td>\n",
       "      <td>NaN</td>\n",
       "      <td>NaN</td>\n",
       "      <td>1.0</td>\n",
       "      <td>0.0</td>\n",
       "      <td>False</td>\n",
       "      <td>0.005961</td>\n",
       "    </tr>\n",
       "  </tbody>\n",
       "</table>\n",
       "<p>1169 rows × 12 columns</p>\n",
       "</div>"
      ],
      "text/plain": [
       "                 RowId       Date  Code    Open    High     Low   Close  \\\n",
       "1753     20170104_9539 2017-01-04  9539     NaN     NaN     NaN     NaN   \n",
       "3618     20170105_9539 2017-01-05  9539   482.0   482.0   482.0   482.0   \n",
       "5483     20170106_9539 2017-01-06  9539   480.0   480.0   480.0   480.0   \n",
       "7348     20170110_9539 2017-01-10  9539   480.0   480.0   480.0   480.0   \n",
       "9213     20170111_9539 2017-01-11  9539   480.0   480.0   480.0   480.0   \n",
       "...                ...        ...   ...     ...     ...     ...     ...   \n",
       "2260419  20211012_9539 2021-10-12  9539  3290.0  3290.0  3290.0  3290.0   \n",
       "2262419  20211013_9539 2021-10-13  9539  3230.0  3295.0  3230.0  3295.0   \n",
       "2264419  20211014_9539 2021-10-14  9539  3295.0  3295.0  3295.0  3295.0   \n",
       "2266419  20211015_9539 2021-10-15  9539     NaN     NaN     NaN     NaN   \n",
       "2268419  20211018_9539 2021-10-18  9539     NaN     NaN     NaN     NaN   \n",
       "\n",
       "         Volume  AdjustmentFactor  ExpectedDividend  SupervisionFlag    Target  \n",
       "1753        NaN               1.0               0.0            False -0.004149  \n",
       "3618     1000.0               1.0               0.0            False  0.000000  \n",
       "5483     1000.0               1.0               0.0            False  0.000000  \n",
       "7348     2000.0               1.0               0.0            False -0.008333  \n",
       "9213     1000.0               1.0               0.0            False  0.006303  \n",
       "...         ...               ...               ...              ...       ...  \n",
       "2260419   100.0               1.0               0.0            False  0.000000  \n",
       "2262419   200.0               1.0               0.0            False  0.000000  \n",
       "2264419   100.0               1.0               0.0            False  0.000000  \n",
       "2266419     NaN               1.0               0.0            False  0.018209  \n",
       "2268419     NaN               1.0               0.0            False  0.005961  \n",
       "\n",
       "[1169 rows x 12 columns]"
      ]
     },
     "execution_count": 29,
     "metadata": {},
     "output_type": "execute_result"
    }
   ],
   "source": [
    "train_data[train_data['Code']==9539] #first missing value is fine"
   ]
  },
  {
   "cell_type": "code",
   "execution_count": 30,
   "id": "fa9f7a89-fd26-4464-a23b-d5dd5138dd1d",
   "metadata": {},
   "outputs": [],
   "source": [
    "codes = first['Code'].unique()\n",
    "for code in codes:\n",
    "    code_series = train_data[train_data['Code']==code].copy()\n",
    "    f = code_series.iloc[0]\n",
    "    f[f.isna()] = code_series.iloc[1][f.isna()]\n",
    "    code_series.iloc[0] = f\n",
    "\n",
    "    idxs = code_series.iloc[0].name\n",
    "    train_data.loc[idxs] = code_series.loc[idxs]\n",
    "\n",
    "missing = train_data[train_data['Open'].isna()]\n",
    "last = missing[missing['Code'].isin(last_entries)]\n",
    "codes = missing['Code'].unique()"
   ]
  },
  {
   "cell_type": "markdown",
   "id": "ccd9d318-b9f7-4447-8725-353203461ebe",
   "metadata": {},
   "source": [
    "For last values missing, to impute we need to ensure the second last value is also not missing."
   ]
  },
  {
   "cell_type": "code",
   "execution_count": 31,
   "id": "f2ce2ff9-d3e2-44b2-8241-9bde9b4d2f7c",
   "metadata": {},
   "outputs": [
    {
     "data": {
      "text/plain": [
       "2761    321\n",
       "4628    275\n",
       "1981    270\n",
       "5918    263\n",
       "9539    150\n",
       "9537    141\n",
       "1793     56\n",
       "9661     34\n",
       "Name: Code, dtype: int64"
      ]
     },
     "execution_count": 31,
     "metadata": {},
     "output_type": "execute_result"
    }
   ],
   "source": [
    "last['Code'].value_counts()"
   ]
  },
  {
   "cell_type": "markdown",
   "id": "9a35ccd4-d29c-4da4-b018-146d9e9f94b3",
   "metadata": {
    "tags": []
   },
   "source": [
    "### Streaks of Missing Values\n",
    "The pandas interpolate method by default will linearly interpolate values and forward fill these last values. What we need to be sure is that there isn't any large streak of missing values where interpolation might not be appropriate."
   ]
  },
  {
   "cell_type": "code",
   "execution_count": 32,
   "id": "d3b5d352-c1f0-47dc-b27f-ef13bb95e32e",
   "metadata": {},
   "outputs": [],
   "source": [
    "#groups clumps of missing values\n",
    "def group_missing(series, df):\n",
    "    #groups missing values into sections, within each section are adjacent missing values\n",
    "    #the first and last values in each section are closest non missing values\n",
    "    missing_groups = []\n",
    "    for _,v in series[series['Open'].isna()].groupby((~series['Open'].isna()).cumsum()):\n",
    "        idxs = v.index.to_list()\n",
    "        \n",
    "        missing_groups.append(idxs)\n",
    "        \n",
    "    return missing_groups\n",
    "    "
   ]
  },
  {
   "cell_type": "code",
   "execution_count": 33,
   "id": "9cbcc501-1930-4aee-969a-38eee689ef43",
   "metadata": {},
   "outputs": [
    {
     "data": {
      "image/png": "[encoded data removed]",
      "text/plain": [
       "<Figure size 504x648 with 1 Axes>"
      ]
     },
     "metadata": {
      "needs_background": "light"
     },
     "output_type": "display_data"
    }
   ],
   "source": [
    "missing_lengths = {}\n",
    "for code in codes:\n",
    "    code_series = train_data[train_data['Code']==code]\n",
    "    missing_groups = group_missing(code_series, train_data)\n",
    "    \n",
    "    lengths = []\n",
    "\n",
    "    for group in missing_groups:\n",
    "        lengths.append(len(group))\n",
    "        \n",
    "    missing_lengths[code] = lengths\n",
    "    \n",
    "lengths = [item for sublist in list(missing_lengths.values()) for item in sublist]\n",
    "lengths.sort(reverse=True)\n",
    "ax = sns.histplot(x=lengths)\n",
    "ax.set(title='missing lengths streak distribution')\n",
    "plt.gcf().set_size_inches(7, 9, forward=True) \n",
    "plt.show()"
   ]
  },
  {
   "cell_type": "markdown",
   "id": "01267c00-ca2c-43bb-a2a9-b4e3b9d9766e",
   "metadata": {},
   "source": [
    "Most missing values are a streak of 1, all are a streak of less than 16. To impute these we will use linear interpolation."
   ]
  },
  {
   "cell_type": "code",
   "execution_count": 34,
   "id": "56743221-c1a1-4259-954c-2ad55a10efd6",
   "metadata": {},
   "outputs": [],
   "source": [
    "for code in codes:\n",
    "    code_series = train_data[train_data['Code']==code].copy()\n",
    "    code_series = code_series.reset_index().set_index('Date')\n",
    "    code_series = code_series.interpolate(method='time')\n",
    "    code_series = code_series.reset_index().set_index('index')\n",
    "    code_series.index.name = None\n",
    "    \n",
    "    idxs = missing[missing['Code']==code].index\n",
    "    \n",
    "    train_data.loc[idxs] = code_series.loc[idxs]"
   ]
  },
  {
   "cell_type": "code",
   "execution_count": 35,
   "id": "7a7e9aed-eac4-4710-81b7-c879129b6ca8",
   "metadata": {},
   "outputs": [
    {
     "data": {
      "text/html": [
       "<div>\n",
       "<style scoped>\n",
       "    .dataframe tbody tr th:only-of-type {\n",
       "        vertical-align: middle;\n",
       "    }\n",
       "\n",
       "    .dataframe tbody tr th {\n",
       "        vertical-align: top;\n",
       "    }\n",
       "\n",
       "    .dataframe thead th {\n",
       "        text-align: right;\n",
       "    }\n",
       "</style>\n",
       "<table border=\"1\" class=\"dataframe\">\n",
       "  <thead>\n",
       "    <tr style=\"text-align: right;\">\n",
       "      <th></th>\n",
       "      <th>Number of Missing Data</th>\n",
       "      <th>% missing</th>\n",
       "    </tr>\n",
       "  </thead>\n",
       "  <tbody>\n",
       "    <tr>\n",
       "      <th>RowId</th>\n",
       "      <td>0</td>\n",
       "      <td>0.0</td>\n",
       "    </tr>\n",
       "    <tr>\n",
       "      <th>Date</th>\n",
       "      <td>0</td>\n",
       "      <td>0.0</td>\n",
       "    </tr>\n",
       "    <tr>\n",
       "      <th>Code</th>\n",
       "      <td>0</td>\n",
       "      <td>0.0</td>\n",
       "    </tr>\n",
       "    <tr>\n",
       "      <th>Open</th>\n",
       "      <td>0</td>\n",
       "      <td>0.0</td>\n",
       "    </tr>\n",
       "    <tr>\n",
       "      <th>High</th>\n",
       "      <td>0</td>\n",
       "      <td>0.0</td>\n",
       "    </tr>\n",
       "    <tr>\n",
       "      <th>Low</th>\n",
       "      <td>0</td>\n",
       "      <td>0.0</td>\n",
       "    </tr>\n",
       "    <tr>\n",
       "      <th>Close</th>\n",
       "      <td>0</td>\n",
       "      <td>0.0</td>\n",
       "    </tr>\n",
       "    <tr>\n",
       "      <th>Volume</th>\n",
       "      <td>0</td>\n",
       "      <td>0.0</td>\n",
       "    </tr>\n",
       "    <tr>\n",
       "      <th>AdjustmentFactor</th>\n",
       "      <td>0</td>\n",
       "      <td>0.0</td>\n",
       "    </tr>\n",
       "    <tr>\n",
       "      <th>ExpectedDividend</th>\n",
       "      <td>0</td>\n",
       "      <td>0.0</td>\n",
       "    </tr>\n",
       "    <tr>\n",
       "      <th>SupervisionFlag</th>\n",
       "      <td>0</td>\n",
       "      <td>0.0</td>\n",
       "    </tr>\n",
       "    <tr>\n",
       "      <th>Target</th>\n",
       "      <td>0</td>\n",
       "      <td>0.0</td>\n",
       "    </tr>\n",
       "  </tbody>\n",
       "</table>\n",
       "</div>"
      ],
      "text/plain": [
       "                  Number of Missing Data  % missing\n",
       "RowId                                  0        0.0\n",
       "Date                                   0        0.0\n",
       "Code                                   0        0.0\n",
       "Open                                   0        0.0\n",
       "High                                   0        0.0\n",
       "Low                                    0        0.0\n",
       "Close                                  0        0.0\n",
       "Volume                                 0        0.0\n",
       "AdjustmentFactor                       0        0.0\n",
       "ExpectedDividend                       0        0.0\n",
       "SupervisionFlag                        0        0.0\n",
       "Target                                 0        0.0"
      ]
     },
     "execution_count": 35,
     "metadata": {},
     "output_type": "execute_result"
    }
   ],
   "source": [
    "num_na = train_data.isna().sum()\n",
    "data_na = pd.DataFrame(num_na, columns = ['Number of Missing Data'])\n",
    "data_na['% missing'] = num_na/len(train_data) * 100\n",
    "data_na"
   ]
  },
  {
   "cell_type": "markdown",
   "id": "514826ba-f0ce-410f-8b58-72c60478f3c3",
   "metadata": {},
   "source": [
    "# Imputing Validation Data\n",
    "We will treat our validation data as new unseen data. In this case, for each row we pretend that we don't possess the information of any rows following it. Thus we will only be able to impute using information from rows before it and cannot use linear interpolation."
   ]
  },
  {
   "cell_type": "code",
   "execution_count": 36,
   "id": "e6bcdfe8-5bb3-4bdf-a49c-5a84f9c4e26f",
   "metadata": {},
   "outputs": [
    {
     "data": {
      "text/html": [
       "<div>\n",
       "<style scoped>\n",
       "    .dataframe tbody tr th:only-of-type {\n",
       "        vertical-align: middle;\n",
       "    }\n",
       "\n",
       "    .dataframe tbody tr th {\n",
       "        vertical-align: top;\n",
       "    }\n",
       "\n",
       "    .dataframe thead th {\n",
       "        text-align: right;\n",
       "    }\n",
       "</style>\n",
       "<table border=\"1\" class=\"dataframe\">\n",
       "  <thead>\n",
       "    <tr style=\"text-align: right;\">\n",
       "      <th></th>\n",
       "      <th>Number of Missing Data</th>\n",
       "      <th>% missing</th>\n",
       "    </tr>\n",
       "  </thead>\n",
       "  <tbody>\n",
       "    <tr>\n",
       "      <th>RowId</th>\n",
       "      <td>0</td>\n",
       "      <td>0.000000</td>\n",
       "    </tr>\n",
       "    <tr>\n",
       "      <th>Date</th>\n",
       "      <td>0</td>\n",
       "      <td>0.000000</td>\n",
       "    </tr>\n",
       "    <tr>\n",
       "      <th>Code</th>\n",
       "      <td>0</td>\n",
       "      <td>0.000000</td>\n",
       "    </tr>\n",
       "    <tr>\n",
       "      <th>Open</th>\n",
       "      <td>203</td>\n",
       "      <td>0.317188</td>\n",
       "    </tr>\n",
       "    <tr>\n",
       "      <th>High</th>\n",
       "      <td>203</td>\n",
       "      <td>0.317188</td>\n",
       "    </tr>\n",
       "    <tr>\n",
       "      <th>Low</th>\n",
       "      <td>203</td>\n",
       "      <td>0.317188</td>\n",
       "    </tr>\n",
       "    <tr>\n",
       "      <th>Close</th>\n",
       "      <td>203</td>\n",
       "      <td>0.317188</td>\n",
       "    </tr>\n",
       "    <tr>\n",
       "      <th>Volume</th>\n",
       "      <td>203</td>\n",
       "      <td>0.317188</td>\n",
       "    </tr>\n",
       "    <tr>\n",
       "      <th>AdjustmentFactor</th>\n",
       "      <td>0</td>\n",
       "      <td>0.000000</td>\n",
       "    </tr>\n",
       "    <tr>\n",
       "      <th>ExpectedDividend</th>\n",
       "      <td>0</td>\n",
       "      <td>0.000000</td>\n",
       "    </tr>\n",
       "    <tr>\n",
       "      <th>SupervisionFlag</th>\n",
       "      <td>0</td>\n",
       "      <td>0.000000</td>\n",
       "    </tr>\n",
       "    <tr>\n",
       "      <th>Target</th>\n",
       "      <td>0</td>\n",
       "      <td>0.000000</td>\n",
       "    </tr>\n",
       "  </tbody>\n",
       "</table>\n",
       "</div>"
      ],
      "text/plain": [
       "                  Number of Missing Data  % missing\n",
       "RowId                                  0   0.000000\n",
       "Date                                   0   0.000000\n",
       "Code                                   0   0.000000\n",
       "Open                                 203   0.317188\n",
       "High                                 203   0.317188\n",
       "Low                                  203   0.317188\n",
       "Close                                203   0.317188\n",
       "Volume                               203   0.317188\n",
       "AdjustmentFactor                       0   0.000000\n",
       "ExpectedDividend                       0   0.000000\n",
       "SupervisionFlag                        0   0.000000\n",
       "Target                                 0   0.000000"
      ]
     },
     "execution_count": 36,
     "metadata": {},
     "output_type": "execute_result"
    }
   ],
   "source": [
    "holdout_data['ExpectedDividend'] = holdout_data['ExpectedDividend'].fillna(0)\n",
    "holdout_data['Volume'] = holdout_data['Volume'].replace(0, np.float64(np.nan))\n",
    "num_na = holdout_data.isna().sum()\n",
    "holdout_data_na = pd.DataFrame(num_na, columns = ['Number of Missing Data'])\n",
    "holdout_data_na['% missing'] = num_na/len(holdout_data) * 100\n",
    "holdout_data_na"
   ]
  },
  {
   "cell_type": "markdown",
   "id": "73d827a2-b5a9-4eb8-9320-145c5f9c11e2",
   "metadata": {},
   "source": [
    "### Missing Length Streaks"
   ]
  },
  {
   "cell_type": "code",
   "execution_count": 37,
   "id": "b4df95a0-9d73-4c15-afee-194ad631932d",
   "metadata": {},
   "outputs": [
    {
     "data": {
      "image/png": "[encoded data removed]",
      "text/plain": [
       "<Figure size 504x648 with 1 Axes>"
      ]
     },
     "metadata": {
      "needs_background": "light"
     },
     "output_type": "display_data"
    }
   ],
   "source": [
    "missing = holdout_data[holdout_data['Open'].isna()]\n",
    "\n",
    "codes_missing = missing['Code'].value_counts()\n",
    "codes = missing['Code'].unique()\n",
    "\n",
    "missing_lengths = {}\n",
    "for code in codes:\n",
    "    code_series = holdout_data[holdout_data['Code']==code]\n",
    "    missing_groups = group_missing(code_series, holdout_data)\n",
    "    \n",
    "    lengths = []\n",
    "\n",
    "    for group in missing_groups:\n",
    "        lengths.append(len(group))\n",
    "        \n",
    "    missing_lengths[code] = lengths\n",
    "    \n",
    "lengths = [item for sublist in list(missing_lengths.values()) for item in sublist]\n",
    "lengths.sort(reverse=True)\n",
    "ax = sns.histplot(x=lengths)\n",
    "ax.set(title='missing lengths streak distribution')\n",
    "plt.gcf().set_size_inches(7, 9, forward=True) \n",
    "plt.show()"
   ]
  },
  {
   "cell_type": "code",
   "execution_count": 38,
   "id": "4ba9a042-3f3b-4fdc-8d43-81f9a49c9c2a",
   "metadata": {},
   "outputs": [
    {
     "name": "stdout",
     "output_type": "stream",
     "text": [
      "Some missing values are at the start, number of missing first entries:9\n"
     ]
    }
   ],
   "source": [
    "first_entries, last_entries = first_last(missing, holdout_data)\n",
    "print(f'Some missing values are at the start, number of missing first entries:{len(first_entries)}')"
   ]
  },
  {
   "cell_type": "code",
   "execution_count": 39,
   "id": "7f72bc6a-3160-4b7b-8dbd-c4426f036ecc",
   "metadata": {},
   "outputs": [],
   "source": [
    "#some missing values are at start, append last obs train data to start\n",
    "temp_holdout = pd.concat([train_data.iloc[-2000:],holdout_data], axis=0)"
   ]
  },
  {
   "cell_type": "markdown",
   "id": "d2db6d8d-8c43-4d68-908a-91cf5e3d7394",
   "metadata": {},
   "source": [
    "Here the 'pad' method in pandas, imputes by LOCF (last observation carried forward)."
   ]
  },
  {
   "cell_type": "code",
   "execution_count": 40,
   "id": "14de9caa-d20d-422c-9f2d-f0b31528f94a",
   "metadata": {},
   "outputs": [],
   "source": [
    "#interpolate test data\n",
    "for code in codes:\n",
    "    code_series = temp_holdout[temp_holdout['Code']==code].copy()\n",
    "    idxs = code_series[code_series['Open'].isna()].index\n",
    "    code_series = code_series.interpolate(method='pad')\n",
    "    temp_holdout.loc[idxs] = code_series.loc[idxs]"
   ]
  },
  {
   "cell_type": "code",
   "execution_count": 41,
   "id": "0690c127-bdfa-4878-8ca7-c00b67b2615f",
   "metadata": {},
   "outputs": [],
   "source": [
    "holdout_data = temp_holdout[2000:].copy()\n",
    "del temp_holdout"
   ]
  },
  {
   "cell_type": "markdown",
   "id": "24aed328-3f16-484d-8b4f-1018f5f532d8",
   "metadata": {},
   "source": [
    "# Saving CSV"
   ]
  },
  {
   "cell_type": "code",
   "execution_count": 42,
   "id": "e01f16a0-d2d3-476d-b2ec-32dd6d0ffe38",
   "metadata": {},
   "outputs": [],
   "source": [
    "data = pd.concat([train_data, holdout_data], axis=0)\n",
    "data['SupervisionFlag'] = data['SupervisionFlag'].astype(np.int32)\n",
    "data.to_csv(\"../../train_files/preprocessed_train.csv\", index=False)"
   ]
  }
 ],
 "metadata": {
  "kernelspec": {
   "display_name": "Python(3.9)Tensorflow(2.9.1)",
   "language": "python",
   "name": "tf"
  },
  "language_info": {
   "codemirror_mode": {
    "name": "ipython",
    "version": 3
   },
   "file_extension": ".py",
   "mimetype": "text/x-python",
   "name": "python",
   "nbconvert_exporter": "python",
   "pygments_lexer": "ipython3",
   "version": "3.9.12"
  }
 },
 "nbformat": 4,
 "nbformat_minor": 5
}
